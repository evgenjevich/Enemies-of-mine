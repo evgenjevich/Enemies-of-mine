{
 "cells": [
  {
   "cell_type": "code",
   "execution_count": 34,
   "metadata": {
    "collapsed": false
   },
   "outputs": [
    {
     "name": "stdout",
     "output_type": "stream",
     "text": [
      "The autoreload extension is already loaded. To reload it, use:\n",
      "  %reload_ext autoreload\n"
     ]
    }
   ],
   "source": [
    "#import and magics\n",
    "%matplotlib inline\n",
    "%load_ext autoreload\n",
    "%autoreload 2\n",
    "\n",
    "\n",
    "import matplotlib.pyplot as plt\n",
    "import json\n",
    "import hackathon_params as hp\n",
    "\n",
    "hp.hackParams(10,200)   #this method creates a json file with dictionary of parameters {N, steps}"
   ]
  },
  {
   "cell_type": "code",
   "execution_count": 41,
   "metadata": {
    "collapsed": false
   },
   "outputs": [
    {
     "name": "stdout",
     "output_type": "stream",
     "text": [
      "Overwriting benchmark1a.py\n"
     ]
    }
   ],
   "source": [
    "%%writefile benchmark1a.py\n",
    "\n",
    "import sympy\n",
    "import fipy as fp\n",
    "import numpy as np\n",
    "import sys\n",
    "import os\n",
    "import resource\n",
    "import json\n",
    "from fipy.solvers.pysparse import LinearLUSolver as Solver\n",
    "\n",
    "memory1 = resource.getrusage(resource.RUSAGE_SELF).ru_maxrss #get initial memory peak\n",
    "\n",
    "#load in the json parameter file here\n",
    "jsonfile = sys.argv[1]\n",
    "\n",
    "if jsonfile:\n",
    "    with open(jsonfile, 'rb') as ff:\n",
    "        params = json.load(ff)\n",
    "        \n",
    "else:\n",
    "    params = dict()\n",
    "    \n",
    "print 'my params:', params\n",
    "\n",
    "#extract the parameters\n",
    "N= params.get('N', 20)\n",
    "total_steps = params.get('steps', 2)\n",
    "sumatra_label = params.get('sumatra_label', '')\n",
    "\n",
    "c, rho_s, c_alpha, c_beta = sympy.symbols(\"c_var rho_s c_alpha c_beta\")\n",
    "f_0 = rho_s * (c - c_alpha)**2 * (c_beta - c)**2\n",
    "\n",
    "mesh = fp.PeriodicGrid2D(nx=N, ny=N, dx=1.0, dy=1.0)\n",
    "\n",
    "c_alpha = 0.3\n",
    "c_beta = 0.7\n",
    "kappa = 2.0\n",
    "M = 5.0\n",
    "c_0 = 0.5\n",
    "epsilon = 0.01\n",
    "rho_s = 5.0\n",
    "filepath = os.path.join('Data', sumatra_label)\n",
    "\n",
    "c_var = fp.CellVariable(mesh=mesh, name=r\"$c$\", hasOld=True)\n",
    "\n",
    "# array of sample c-values: used in f versus c plot\n",
    "vals = np.linspace(-.1, 1.1, 1000)\n",
    "\n",
    "c_var = fp.CellVariable(mesh=mesh, name=r\"$c$\", hasOld=True)\n",
    "\n",
    "x , y = np.array(mesh.x), np.array(mesh.y)\n",
    "\n",
    "out = sympy.diff(f_0, c, 2)\n",
    "\n",
    "exec \"f_0_var = \" + repr(out)\n",
    "#f_0_var = -A + 3*B*(c_var - c_m)**2 + 3*c_alpha*(c_var - c_alpha)**2 + 3*c_beta*(c_var - c_beta)**2\n",
    "\n",
    "def f_0(c):\n",
    "    return rho_s*((c - c_alpha)**2)*((c_beta-c)**2)\n",
    "def f_0_var(c_var):\n",
    "    return 2*rho_s*((c_alpha - c_var)**2 + 4*(c_alpha - c_var)*(c_beta - c_var) + (c_beta - c_var)**2)\n",
    "# free energy\n",
    "def f(c):\n",
    "    return (f_0(c)+ .5*kappa*(c.grad.mag)**2)\n",
    "f_data = []\n",
    "time_data = []\n",
    "\n",
    "def save_data(f, time):\n",
    "    f_data.append(f.value)\n",
    "    time_data.append(time)\n",
    "    np.savetxt(os.path.join(filepath, '1a.txt'), zip(time_data, f_data))\n",
    "    \n",
    "eqn = fp.TransientTerm(coeff=1.) == fp.DiffusionTerm(M * f_0_var(c_var)) - fp.DiffusionTerm((M, kappa))\n",
    "\n",
    "elapsed = 0.0\n",
    "steps = 0\n",
    "dt = 0.01\n",
    "total_sweeps = 2\n",
    "tolerance = 1e-1\n",
    "duration = 1000.0\n",
    "\n",
    "c_var[:] = c_0 + epsilon * (np.cos(0.105 * x) * np.cos(0.11 * y) + \\\n",
    "                            (np.cos(0.13 * x) * np.cos(0.087 * y))**2 + \\\n",
    "                            + np.cos(0.025 * x - 0.15 * y) * np.cos(0.07 * x - 0.02 * y))\n",
    "c_var.updateOld()\n",
    "solver = Solver()\n",
    "\n",
    "while elapsed < duration and steps < total_steps:\n",
    "    res0 = eqn.sweep(c_var, dt=dt, solver=solver)\n",
    "\n",
    "    for sweeps in range(total_sweeps):\n",
    "        res = eqn.sweep(c_var, dt=dt, solver=solver)\n",
    "\n",
    "    if res < res0 * tolerance:\n",
    "        steps += 1\n",
    "        elapsed += dt\n",
    "        dt *= 1.1\n",
    "        c_var.updateOld()\n",
    "        \n",
    "        if (steps%(total_steps/10.0))==0:\n",
    "            print steps\n",
    "            print elapsed\n",
    "            # record the volume integral of the free energy \n",
    "            save_data(f_0_var(c_var).cellVolumeAverage*mesh.numberOfCells, elapsed)\n",
    "            # pickle the data on c as a function of space at this particular time\n",
    "            fp.dump.write({'time' : steps, 'var': c_var}, os.path.join(filepath,'1a{0}.pkl'.format(steps))\n",
    "\n",
    "    else:\n",
    "        dt *= 0.8\n",
    "        c_var[:] = c_var.old\n",
    "\n",
    "print 'elapsed_time:',elapsed\n",
    "\n",
    "#memory stuff saves\n",
    "filepath = os.path.join('Data', sumatra_label)\n",
    "#Keep track os how much memory was used and dump into a txt file\n",
    "memory2 = resource.getrusage(resource.RUSAGE_SELF).ru_maxrss #final memory peak\n",
    "memory_diff = (memory2 - memory1,)\n",
    "filename2 = 'memory_usage.txt'\n",
    "np.savetxt(os.path.join(filepath, filename2), memory_diff )"
   ]
  },
  {
   "cell_type": "code",
   "execution_count": 39,
   "metadata": {
    "collapsed": false
   },
   "outputs": [
    {
     "name": "stdout",
     "output_type": "stream",
     "text": [
      "mkdir: cannot create directory ‘Data’: File exists\r\n"
     ]
    }
   ],
   "source": [
    "!mkdir Data\n",
    "!mkdir 1apickles"
   ]
  },
  {
   "cell_type": "code",
   "execution_count": 40,
   "metadata": {
    "collapsed": false
   },
   "outputs": [
    {
     "name": "stdout",
     "output_type": "stream",
     "text": [
      "my params: {u'steps': 200, u'N': 10}\n",
      "20\n",
      "0.572749994933\n",
      "40\n",
      "4.42592555682\n",
      "60\n",
      "30.3481639541\n",
      "80\n",
      "99.0317029596\n",
      "100\n",
      "221.843418107\n",
      "120\n",
      "428.677971403\n",
      "140\n",
      "873.517578825\n",
      "elapsed_time: 1012.40585203\n"
     ]
    }
   ],
   "source": [
    "!python  benchmark1a.py params.json"
   ]
  },
  {
   "cell_type": "code",
   "execution_count": 42,
   "metadata": {
    "collapsed": false
   },
   "outputs": [
    {
     "name": "stdout",
     "output_type": "stream",
     "text": [
      "\u001b[33mcommit faf22d7ffb95c9de3a8406b383274fb32ebf162c\u001b[m\r\n",
      "Author: Anushka Dasgupta <anushkad@princeton.edu>\r\n",
      "Date:   Wed Jun 8 16:32:10 2016 -0400\r\n",
      "\r\n",
      "    benchmark problem 1a ready for sumatra\r\n"
     ]
    }
   ],
   "source": [
    "!git log -1"
   ]
  },
  {
   "cell_type": "code",
   "execution_count": null,
   "metadata": {
    "collapsed": true
   },
   "outputs": [],
   "source": []
  }
 ],
 "metadata": {
  "kernelspec": {
   "display_name": "Python 2",
   "language": "python",
   "name": "python2"
  },
  "language_info": {
   "codemirror_mode": {
    "name": "ipython",
    "version": 2
   },
   "file_extension": ".py",
   "mimetype": "text/x-python",
   "name": "python",
   "nbconvert_exporter": "python",
   "pygments_lexer": "ipython2",
   "version": "2.7.11"
  }
 },
 "nbformat": 4,
 "nbformat_minor": 0
}
